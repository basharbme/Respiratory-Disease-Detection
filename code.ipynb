{
 "nbformat": 4,
 "nbformat_minor": 2,
 "metadata": {
  "language_info": {
   "name": "python",
   "codemirror_mode": {
    "name": "ipython",
    "version": 3
   },
   "version": "3.7.3-final"
  },
  "orig_nbformat": 2,
  "file_extension": ".py",
  "mimetype": "text/x-python",
  "name": "python",
  "npconvert_exporter": "python",
  "pygments_lexer": "ipython3",
  "version": 3,
  "kernelspec": {
   "name": "python3",
   "display_name": "Python 3"
  }
 },
 "cells": [
  {
   "cell_type": "code",
   "execution_count": 2,
   "metadata": {},
   "outputs": [],
   "source": [
    "# imports\n",
    "import audio_processing as ap\n",
    "import os\n",
    "import re\n",
    "import pandas as pd\n",
    "import numpy as np"
   ]
  },
  {
   "cell_type": "code",
   "execution_count": 3,
   "metadata": {},
   "outputs": [],
   "source": [
    "def get_audio_files():\n",
    "    path = 'respiratory-sound-database/audio_and_txt_files/'\n",
    "    folder = os.listdir(path)\n",
    "\n",
    "    wav_files, txt_files = [], []\n",
    "    for file in folder:\n",
    "        if file.endswith('.wav'):\n",
    "            wav_files.append(file)\n",
    "        elif file.endswith('.txt'):\n",
    "            txt_files.append(file)\n",
    "\n",
    "    return wav_files, txt_files"
   ]
  },
  {
   "cell_type": "code",
   "execution_count": 4,
   "metadata": {},
   "outputs": [],
   "source": [
    "def extract_info(filename):\n",
    "    splits = filename.split('_')\n",
    "    print(splits)"
   ]
  },
  {
   "cell_type": "code",
   "execution_count": 6,
   "metadata": {
    "tags": [
     "outputPrepend"
    ]
   },
   "outputs": [],
   "source": [
    "# separate files by audio and txt\n",
    "wav_files, txt_files = get_audio_files()\n",
    "wav_files = sorted(wav_files)"
   ]
  },
  {
   "cell_type": "code",
   "execution_count": 7,
   "metadata": {},
   "outputs": [],
   "source": [
    "# extract information from the wav files' filename\n",
    "# 0:[patient #], 1:[recording index], 2:[chest location], 3:[acquisition mode], 4:[recording equipment]\n",
    "stripped_file_info = [re.sub('\\.wav$', '', file) for file in wav_files]\n",
    "file_info = [file.split('_') for file in stripped_file_info]"
   ]
  },
  {
   "cell_type": "code",
   "execution_count": 8,
   "metadata": {},
   "outputs": [],
   "source": [
    "# load the extracted data into a dataframe\n",
    "demog_data = pd.read_csv('demographic-info.csv')\n",
    "diag_data = pd.read_csv('respiratory-sound-database/patient_diagnosis.csv', names=['Patient Number', 'Diagnosis'])\n",
    "data = pd.DataFrame(data=file_info, columns=['Patient Number', 'Recording Index', 'Chest Location', 'Acquisition Mode', 'Recording Equipment'])\n",
    "data['Patient Number'] = data['Patient Number'].astype(int)"
   ]
  },
  {
   "cell_type": "code",
   "execution_count": 9,
   "metadata": {},
   "outputs": [],
   "source": [
    "# put info from demog_data into data\n",
    "age, sex, a_BMI, c_weight, c_height, diagnosis = [], [], [], [], [], []\n",
    "demog_size = demog_data['Age'].size\n",
    "size = data['Patient Number'].size"
   ]
  },
  {
   "cell_type": "code",
   "execution_count": 10,
   "metadata": {},
   "outputs": [],
   "source": [
    "# TODO: Make this more efficient\n",
    "for j in range(0, size):\n",
    "    for i in range(0, demog_size):\n",
    "        if data['Patient Number'][j] == demog_data['Patient Number'][i]:\n",
    "            age.append(demog_data['Age'][i])\n",
    "            sex.append(demog_data['Sex'][i])\n",
    "            a_BMI.append(demog_data['Adult BMI'][i])\n",
    "            c_weight.append(demog_data['Child Weight'][i])\n",
    "            c_height.append(demog_data['Child Height'][i])\n",
    "        if data['Patient Number'][j] == diag_data['Patient Number'][i]:\n",
    "            diagnosis.append(diag_data['Diagnosis'][i])\n",
    "        pass"
   ]
  },
  {
   "cell_type": "code",
   "execution_count": 11,
   "metadata": {},
   "outputs": [],
   "source": [
    "data['Age'], data['Sex'], data['Adult BMI'], data['Child Weight'], data['Child Height'], data['Diagnosis'] = age, sex, a_BMI, c_weight, c_height, diagnosis"
   ]
  },
  {
   "cell_type": "code",
   "execution_count": 14,
   "metadata": {
    "tags": [
     "outputPrepend"
    ]
   },
   "outputs": [
    {
     "output_type": "stream",
     "name": "stdout",
     "text": "['URTI' 'Healthy' 'Asthma' 'COPD' 'LRTI' 'Bronchiectasis' 'Pneumonia'\n 'Bronchiolitis']\n"
    }
   ],
   "source": [
    "# get list of unique diagnoses labels\n",
    "diagnoses = data.Diagnosis.unique()\n",
    "print(diagnoses)\n",
    "\n",
    "# print(sorted(txt_files))\n",
    "# spectros = ap.get_spectrograms(wav_files)"
   ]
  },
  {
   "cell_type": "code",
   "execution_count": null,
   "metadata": {},
   "outputs": [],
   "source": []
  },
  {
   "cell_type": "code",
   "execution_count": null,
   "metadata": {},
   "outputs": [],
   "source": []
  }
 ]
}