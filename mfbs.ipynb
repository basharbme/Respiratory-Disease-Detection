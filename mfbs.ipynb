{
 "nbformat": 4,
 "nbformat_minor": 2,
 "metadata": {
  "language_info": {
   "name": "python",
   "codemirror_mode": {
    "name": "ipython",
    "version": 3
   },
   "version": "3.7.3-final"
  },
  "orig_nbformat": 2,
  "file_extension": ".py",
  "mimetype": "text/x-python",
  "name": "python",
  "npconvert_exporter": "python",
  "pygments_lexer": "ipython3",
  "version": 3,
  "kernelspec": {
   "name": "python3",
   "display_name": "Python 3"
  }
 },
 "cells": [
  {
   "cell_type": "code",
   "execution_count": 246,
   "metadata": {},
   "outputs": [],
   "source": [
    "from __future__ import absolute_import, division, print_function, unicode_literals\n",
    "\n",
    "import os\n",
    "import re\n",
    "import pandas as pd\n",
    "import numpy as np\n",
    "import matplotlib.pyplot as plt\n",
    "from scipy import signal\n",
    "from scipy.io import wavfile\n",
    "import subprocess\n",
    "\n",
    "import random\n",
    "import tensorflow as tf\n",
    "from tensorflow.keras import layers, models\n",
    "from python_speech_features.base import logfbank as mfb\n",
    "from sklearn.model_selection import train_test_split\n",
    "from keras.utils import to_categorical\n",
    "\n",
    "from librosa.effects import trim\n",
    "from librosa import get_duration\n",
    "\n",
    "from tqdm import tqdm\n",
    "from prettytable import PrettyTable"
   ]
  },
  {
   "cell_type": "code",
   "execution_count": 247,
   "metadata": {},
   "outputs": [],
   "source": [
    "# GLOBAL PATH VARIABLE FOR AUDIO / TXT FILES:\n",
    "path = 'respiratory-sound-database/audio_and_txt_files/'"
   ]
  },
  {
   "cell_type": "code",
   "execution_count": 248,
   "metadata": {},
   "outputs": [],
   "source": [
    "def get_audio_files():\n",
    "    folder = os.listdir(path)\n",
    "\n",
    "    wav_files, txt_files = [], []\n",
    "    for file in folder:\n",
    "        if file.endswith('_16.wav'):\n",
    "            wav_files.append(file)\n",
    "        elif file.endswith('.txt'):\n",
    "            txt_files.append(file)\n",
    "    \n",
    "    print(\"Sanity Check for Array Lengths: {}, {}\".format(len(wav_files), len(txt_files)))\n",
    "    return wav_files, txt_files"
   ]
  },
  {
   "cell_type": "code",
   "execution_count": 249,
   "metadata": {},
   "outputs": [],
   "source": [
    "def extract_info(filename):\n",
    "    splits = filename.split('_')\n",
    "    print(splits)"
   ]
  },
  {
   "cell_type": "code",
   "execution_count": 250,
   "metadata": {},
   "outputs": [
    {
     "output_type": "stream",
     "name": "stdout",
     "text": "Sanity Check for Array Lengths: 830, 830\n"
    }
   ],
   "source": [
    "# separate files by audio and txt\n",
    "wav_files, txt_files = get_audio_files()\n",
    "wav_files = sorted(wav_files)\n",
    "txt_files = sorted(txt_files)"
   ]
  },
  {
   "cell_type": "code",
   "execution_count": 251,
   "metadata": {},
   "outputs": [],
   "source": [
    "# extract information from the wav files' filename\n",
    "# 0:[patient #], 1:[recording index], 2:[chest location], 3:[acquisition mode], 4:[recording equipment]\n",
    "stripped_file_info = [re.sub('_16\\.wav$', '', file) for file in wav_files]\n",
    "file_info = [file.split('_') for file in stripped_file_info]"
   ]
  },
  {
   "cell_type": "code",
   "execution_count": 252,
   "metadata": {},
   "outputs": [],
   "source": [
    "# load the extracted data into a dataframe\n",
    "demog_data = pd.read_csv('demographic-info.csv')\n",
    "diag_data = pd.read_csv('respiratory-sound-database/patient_diagnosis.csv', names=['Patient Number', 'Diagnosis'])\n",
    "data = pd.DataFrame(data=file_info, \n",
    "                    columns=['Patient Number', 'Recording Index', 'Chest Location', 'Acquisition Mode', 'Recording Equipment'])\n",
    "\n",
    "data['Patient Number'] = data['Patient Number'].astype(int)\n",
    "data['txt_file'] = txt_files\n",
    "data['audio_file'] = wav_files"
   ]
  },
  {
   "cell_type": "code",
   "execution_count": 253,
   "metadata": {},
   "outputs": [],
   "source": [
    "# put info from demog_data into data\n",
    "age, sex, a_BMI, c_weight, c_height, diagnosis = [], [], [], [], [], []\n",
    "demog_size = demog_data['Age'].size\n",
    "size = data['Patient Number'].size"
   ]
  },
  {
   "cell_type": "code",
   "execution_count": 254,
   "metadata": {},
   "outputs": [
    {
     "output_type": "stream",
     "name": "stderr",
     "text": "100%|██████████| 830/830 [00:04<00:00, 172.24it/s]\n"
    }
   ],
   "source": [
    "# TODO: Make this more efficient\n",
    "# conversions = {'COPD':0, 'Pneumonia':1, 'Healthy':2, 'URTI':3, 'Bronchiectasis':4, 'Bronchiolitis':5, 'LRTI':6, 'Asthma':7}\n",
    "conversion = {'COPD':0, 'Pneumonia':1, 'Healthy':2, 'URTI':3}\n",
    "\n",
    "for j in tqdm(range(0, size)):\n",
    "    for i in range(0, demog_size):\n",
    "        if data['Patient Number'][j] == demog_data['Patient Number'][i]:\n",
    "            age.append(demog_data['Age'][i])\n",
    "            sex.append(demog_data['Sex'][i])\n",
    "            a_BMI.append(demog_data['Adult BMI'][i])\n",
    "            c_weight.append(demog_data['Child Weight'][i])\n",
    "            c_height.append(demog_data['Child Height'][i])\n",
    "        if data['Patient Number'][j] == diag_data['Patient Number'][i]:\n",
    "            if diag_data['Diagnosis'][i] in conversion.keys():\n",
    "                diagnosis.append(conversions[diag_data['Diagnosis'][i]])\n",
    "            else:\n",
    "                diagnosis.append(\"DELETE\")\n",
    "        pass"
   ]
  },
  {
   "cell_type": "code",
   "execution_count": 255,
   "metadata": {},
   "outputs": [],
   "source": [
    "data['Age'], data['Sex'], data['Adult BMI'], data['Child Weight'], data['Child Height'], data['Diagnosis'] = age, sex, a_BMI, c_weight, c_height, diagnosis"
   ]
  },
  {
   "cell_type": "code",
   "execution_count": 256,
   "metadata": {},
   "outputs": [],
   "source": [
    "# delete all cases of 'DELETE' in diagnosis (balancing data)\n",
    "data = data[data.Diagnosis != 'DELETE']"
   ]
  },
  {
   "cell_type": "code",
   "execution_count": 257,
   "metadata": {},
   "outputs": [
    {
     "output_type": "stream",
     "name": "stdout",
     "text": "New total number of samples is 798.\n"
    }
   ],
   "source": [
    "print(\"New total number of samples is {}.\".format(len(data.index)))"
   ]
  },
  {
   "cell_type": "code",
   "execution_count": 258,
   "metadata": {},
   "outputs": [],
   "source": [
    "# reinitialize data.index\n",
    "data.index = [i for i in range(0, len(data.index))]"
   ]
  },
  {
   "cell_type": "code",
   "execution_count": 259,
   "metadata": {},
   "outputs": [
    {
     "output_type": "stream",
     "name": "stdout",
     "text": "Proportion of samples of COPD: 703/798 = 0.8809523809523809\nProportion of samples of Pneumonia: 37/798 = 0.046365914786967416\nProportion of samples of Healthy: 35/798 = 0.043859649122807015\nProportion of samples of URTI: 23/798 = 0.02882205513784461\n"
    }
   ],
   "source": [
    "# Checking percent of data that is COPD (0) vs. the other classes (Pneumonia = 1, Healthy = 2, URTI = 3)\n",
    "total_samples = len(data.index)\n",
    "num_COPD = len(data[data.Diagnosis == 0])\n",
    "num_pneum = len(data[data.Diagnosis == 1])\n",
    "num_healthy = len(data[data.Diagnosis == 2])\n",
    "num_URTI = len(data[data.Diagnosis == 3])\n",
    "\n",
    "print(\"Proportion of samples of COPD: {}/{} = {}\".format(num_COPD, total_samples, num_COPD / total_samples))\n",
    "print(\"Proportion of samples of Pneumonia: {}/{} = {}\".format(num_pneum, total_samples, num_pneum / total_samples))\n",
    "print(\"Proportion of samples of Healthy: {}/{} = {}\".format(num_healthy, total_samples, num_healthy / total_samples))\n",
    "print(\"Proportion of samples of URTI: {}/{} = {}\".format(num_URTI, total_samples, num_URTI / total_samples))"
   ]
  },
  {
   "cell_type": "code",
   "execution_count": 260,
   "metadata": {},
   "outputs": [
    {
     "output_type": "stream",
     "name": "stdout",
     "text": "Proportion of samples of COPD: 70/165 = 0.42424242424242425\nProportion of samples of Pneumonia: 37/165 = 0.22424242424242424\nProportion of samples of Healthy: 35/165 = 0.21212121212121213\nProportion of samples of URTI: 23/165 = 0.1393939393939394\n\nTo achieve these proportions, we need to remove 633 samples of COPD. We are downsampling COPD by a factor of 70.\n"
    }
   ],
   "source": [
    "less_num_COPD = int(num_COPD / 10)\n",
    "sub_value = num_COPD - less_num_COPD\n",
    "downsampled_total = total_samples - sub_value\n",
    "\n",
    "print(\"Proportion of samples of COPD: {}/{} = {}\".format(less_num_COPD, downsampled_total, less_num_COPD / downsampled_total))\n",
    "print(\"Proportion of samples of Pneumonia: {}/{} = {}\".format(num_pneum, downsampled_total, num_pneum / downsampled_total))\n",
    "print(\"Proportion of samples of Healthy: {}/{} = {}\".format(num_healthy, downsampled_total, num_healthy / downsampled_total))\n",
    "print(\"Proportion of samples of URTI: {}/{} = {}\".format(num_URTI, downsampled_total, num_URTI / downsampled_total))\n",
    "\n",
    "print(\"\\nTo achieve these proportions, we need to remove {} samples of COPD. We are downsampling COPD by a factor of {}.\".format(sub_value, less_num_COPD))"
   ]
  },
  {
   "cell_type": "code",
   "execution_count": 261,
   "metadata": {},
   "outputs": [],
   "source": [
    "# downsample COPD by the above definitions, randomly selecting samples with diagnosis COPD\n",
    "downsampling_factor = less_num_COPD\n",
    "num_samples_to_remove = sub_value\n",
    "\n",
    "indices_to_delete = []\n",
    "for i in range(0, num_samples_to_remove):\n",
    "    deleted = False\n",
    "    while deleted == False:\n",
    "        index = random.randint(0, len(data.index) - 1)\n",
    "        if data['Diagnosis'][index] == 0:\n",
    "            if index not in indices_to_delete:\n",
    "                indices_to_delete.append(index)\n",
    "                deleted = True"
   ]
  },
  {
   "cell_type": "code",
   "execution_count": 262,
   "metadata": {},
   "outputs": [],
   "source": [
    "data = data.drop(indices_to_delete, axis=0)"
   ]
  },
  {
   "cell_type": "code",
   "execution_count": 263,
   "metadata": {},
   "outputs": [],
   "source": [
    "# reset index\n",
    "data.index = [i for i in range(0, len(data.index))]"
   ]
  },
  {
   "cell_type": "code",
   "execution_count": 264,
   "metadata": {},
   "outputs": [
    {
     "output_type": "stream",
     "name": "stdout",
     "text": "Proportion of samples of COPD: 70/165 = 0.42424242424242425\nProportion of samples of Pneumonia: 37/165 = 0.22424242424242424\nProportion of samples of Healthy: 35/165 = 0.21212121212121213\nProportion of samples of URTI: 23/165 = 0.1393939393939394\n"
    }
   ],
   "source": [
    "# Confirming that we have the same or similar probabilities as before\n",
    "total_samples = len(data.index)\n",
    "num_COPD = len(data[data.Diagnosis == 0])\n",
    "num_pneum = len(data[data.Diagnosis == 1])\n",
    "num_healthy = len(data[data.Diagnosis == 2])\n",
    "num_URTI = len(data[data.Diagnosis == 3])\n",
    "\n",
    "print(\"Proportion of samples of COPD: {}/{} = {}\".format(num_COPD, total_samples, num_COPD / total_samples))\n",
    "print(\"Proportion of samples of Pneumonia: {}/{} = {}\".format(num_pneum, total_samples, num_pneum / total_samples))\n",
    "print(\"Proportion of samples of Healthy: {}/{} = {}\".format(num_healthy, total_samples, num_healthy / total_samples))\n",
    "print(\"Proportion of samples of URTI: {}/{} = {}\".format(num_URTI, total_samples, num_URTI / total_samples))"
   ]
  },
  {
   "cell_type": "code",
   "execution_count": 265,
   "metadata": {
    "tags": [
     "outputPrepend",
     "outputPrepend",
     "outputPrepend",
     "outputPrepend",
     "outputPrepend",
     "outputPrepend",
     "outputPrepend",
     "outputPrepend",
     "outputPrepend",
     "outputPrepend",
     "outputPrepend",
     "outputPrepend"
    ]
   },
   "outputs": [
    {
     "output_type": "stream",
     "name": "stderr",
     "text": "100%|██████████| 165/165 [00:03<00:00, 48.21it/s]\n"
    }
   ],
   "source": [
    "# get MFBs for each file\n",
    "mfbs = []\n",
    "\n",
    "for file in tqdm(data['audio_file']):\n",
    "    sample_rate, samples = wavfile.read(path + file)\n",
    "    trimmed, trimmed_shape = trim(np.array(samples).astype(float))\n",
    "    m = mfb(trimmed, samplerate=sample_rate)\n",
    "    mfbs.append(m)"
   ]
  },
  {
   "cell_type": "code",
   "execution_count": 266,
   "metadata": {
    "tags": [
     "outputPrepend"
    ]
   },
   "outputs": [],
   "source": [
    "data['MFB'] = mfbs"
   ]
  },
  {
   "cell_type": "code",
   "execution_count": 267,
   "metadata": {},
   "outputs": [
    {
     "output_type": "stream",
     "name": "stdout",
     "text": "(1979, 26)\n"
    }
   ],
   "source": [
    "# find minimum shape to trim other samples\n",
    "min_shape = min([m.shape for m in data['MFB']])\n",
    "print(min_shape)"
   ]
  },
  {
   "cell_type": "code",
   "execution_count": 268,
   "metadata": {},
   "outputs": [],
   "source": [
    "# trim all other samples\n",
    "data['MFB'] = [m[:1979,:] for m in data['MFB']]"
   ]
  },
  {
   "cell_type": "code",
   "execution_count": 269,
   "metadata": {},
   "outputs": [
    {
     "output_type": "stream",
     "name": "stdout",
     "text": "(1979, 26)\n"
    }
   ],
   "source": [
    "# confirm that trimming worked by checking max shape\n",
    "print(max([m.shape for m in data['MFB']]))"
   ]
  },
  {
   "cell_type": "code",
   "execution_count": 271,
   "metadata": {},
   "outputs": [],
   "source": [
    "# pickle data to a file for use in training\n",
    "data.to_pickle('train_data_mfbs_downsampled_70.pkl')"
   ]
  },
  {
   "cell_type": "code",
   "execution_count": null,
   "metadata": {},
   "outputs": [],
   "source": []
  }
 ]
}