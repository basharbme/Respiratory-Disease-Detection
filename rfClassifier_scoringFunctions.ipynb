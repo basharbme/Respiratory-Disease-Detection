{
 "cells": [
  {
   "cell_type": "code",
   "execution_count": 1,
   "metadata": {},
   "outputs": [],
   "source": [
    "import numpy as np\n",
    "import pandas as pd\n",
    "from sklearn.ensemble import RandomForestClassifier\n",
    "from sklearn.metrics import confusion_matrix\n",
    "from sklearn import metrics"
   ]
  },
  {
   "cell_type": "code",
   "execution_count": null,
   "metadata": {},
   "outputs": [],
   "source": [
    "# Random Forest Classifier\n",
    "def build_rf_classifier(train, val):\n",
    "    rf_classifier = RandomForestClassifier(max_depth=2, random_state=0, verbose=1)\n",
    "# FIXME\n",
    "    X = train['Spectrogram']\n",
    "    y = train['Diagnosis']\n",
    "    rf_classifier.fit(X, y)\n",
    "    \n",
    "    X_val = val['Spectrogram']\n",
    "    y_val = val['Diagnosis']\n",
    "    y_val_pred = rf_classifier.predict(X_val)\n",
    "    \n",
    "    calculate_scores(y_val, y_val_pred)\n",
    "    \n",
    "    return rf_classifier"
   ]
  },
  {
   "cell_type": "code",
   "execution_count": null,
   "metadata": {},
   "outputs": [],
   "source": [
    "# Scoring Functions --  Accuracy\n",
    "def calculate_scores(y_true, y_pred):\n",
    "    # confusion matrix\n",
    "#   can probably hardcode labels\n",
    "#     labels =\n",
    "    conf_mat = confusion_matrix(y_true, y_pred, labels=labels)\n",
    "    print(\"Confusion Matrix: {}\".format(conf_mat))\n",
    "    \n",
    "    # accuracy is the diagonal of Conf. Matrix divided by total\n",
    "    accuracy = conf_mat.trace() / conf_mat.sum()\n",
    "    print(\"Accuracy: {}\".format(accuracy))\n",
    "    \n",
    "    # Area Under ROC Curve --> convert into binary (TP, FP, TN, FN)\n",
    "    \n",
    "    "
   ]
  }
 ],
 "metadata": {
  "kernelspec": {
   "display_name": "Python 3",
   "language": "python",
   "name": "python3"
  },
  "language_info": {
   "codemirror_mode": {
    "name": "ipython",
    "version": 3
   },
   "file_extension": ".py",
   "mimetype": "text/x-python",
   "name": "python",
   "nbconvert_exporter": "python",
   "pygments_lexer": "ipython3",
   "version": "3.7.6"
  }
 },
 "nbformat": 4,
 "nbformat_minor": 4
}
